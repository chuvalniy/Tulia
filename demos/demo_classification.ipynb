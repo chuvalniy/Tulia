{
  "nbformat": 4,
  "nbformat_minor": 0,
  "metadata": {
    "colab": {
      "provenance": []
    },
    "kernelspec": {
      "name": "python3",
      "display_name": "Python 3"
    },
    "language_info": {
      "name": "python"
    }
  },
  "cells": [
    {
      "cell_type": "code",
      "execution_count": 1,
      "metadata": {
        "id": "cw57Yr74DL31"
      },
      "outputs": [],
      "source": [
        "from sklearn.datasets import make_classification\n",
        "from sklearn.model_selection import train_test_split\n",
        "from sklearn.metrics import accuracy_score\n",
        "\n",
        "from sklearn.ensemble import RandomForestClassifier as sklearn_rf\n",
        "from sklearn.linear_model import LogisticRegression as sklearn_lr\n",
        "from sklearn.neighbors import KNeighborsClassifier as sklearn_knn\n",
        "from sklearn.naive_bayes import GaussianNB as sklearn_gnb"
      ]
    },
    {
      "cell_type": "code",
      "source": [
        "pip install tulia"
      ],
      "metadata": {
        "colab": {
          "base_uri": "https://localhost:8080/"
        },
        "id": "VLFXeuCEDa-S",
        "outputId": "3b0aed8c-6b2c-4e1a-ea01-7c7bde2da896"
      },
      "execution_count": 2,
      "outputs": [
        {
          "output_type": "stream",
          "name": "stdout",
          "text": [
            "Requirement already satisfied: tulia in /usr/local/lib/python3.10/dist-packages (0.2.1)\n",
            "Requirement already satisfied: numpy in /usr/local/lib/python3.10/dist-packages (from tulia) (1.23.5)\n",
            "Requirement already satisfied: pytest in /usr/local/lib/python3.10/dist-packages (from tulia) (7.4.4)\n",
            "Requirement already satisfied: iniconfig in /usr/local/lib/python3.10/dist-packages (from pytest->tulia) (2.0.0)\n",
            "Requirement already satisfied: packaging in /usr/local/lib/python3.10/dist-packages (from pytest->tulia) (23.2)\n",
            "Requirement already satisfied: pluggy<2.0,>=0.12 in /usr/local/lib/python3.10/dist-packages (from pytest->tulia) (1.3.0)\n",
            "Requirement already satisfied: exceptiongroup>=1.0.0rc8 in /usr/local/lib/python3.10/dist-packages (from pytest->tulia) (1.2.0)\n",
            "Requirement already satisfied: tomli>=1.0.0 in /usr/local/lib/python3.10/dist-packages (from pytest->tulia) (2.0.1)\n"
          ]
        }
      ]
    },
    {
      "cell_type": "code",
      "source": [
        "from src.ensemble import RandomForestClassifier\n",
        "from src.linear import LogisticRegression\n",
        "from src.gaussian import GaussianNB\n",
        "from src.neighbors import KNN"
      ],
      "metadata": {
        "id": "OjH6Q3jPDd86"
      },
      "execution_count": 3,
      "outputs": []
    },
    {
      "cell_type": "code",
      "source": [
        "# Generate synthetic data\n",
        "X, y = make_classification(n_samples=1000, n_features=10, random_state=1)\n",
        "\n",
        "# Split data into training and testing sets\n",
        "from sklearn.model_selection import train_test_split\n",
        "\n",
        "X_train, X_test, y_train, y_test = train_test_split(X, y, test_size=0.3, random_state=1)"
      ],
      "metadata": {
        "id": "bxWJ7IErD-Dq"
      },
      "execution_count": 4,
      "outputs": []
    },
    {
      "cell_type": "markdown",
      "source": [
        "### Random Forest"
      ],
      "metadata": {
        "id": "AFDh8iEqEDHE"
      }
    },
    {
      "cell_type": "code",
      "source": [
        "# Train Tulia\n",
        "tulia = RandomForestClassifier(n_trees=10, max_depth=5, min_samples_split=4, max_features=0.5)\n",
        "tulia.fit(X_train, y_train)\n",
        "\n",
        "tulia_pred = tulia.predict(X_test)\n",
        "tulia_acc = accuracy_score(y_test, tulia_pred)\n",
        "\n",
        "# Train scikit-learn\n",
        "scikit = sklearn_rf(n_estimators=10, max_depth=5, min_samples_split=4, max_features=0.5)\n",
        "scikit.fit(X_train, y_train)\n",
        "\n",
        "scikit_pred = scikit.predict(X_test)\n",
        "scikit_acc = accuracy_score(y_test, scikit_pred)"
      ],
      "metadata": {
        "id": "sPcU_7bDEBK6"
      },
      "execution_count": 5,
      "outputs": []
    },
    {
      "cell_type": "code",
      "source": [
        "print(f\"Tulia accuracy: {tulia_acc}\")\n",
        "print(f\"Scikit-learn accuracy {scikit_acc}\")"
      ],
      "metadata": {
        "colab": {
          "base_uri": "https://localhost:8080/"
        },
        "id": "SuxVuWMxEHRL",
        "outputId": "388401ef-8f3d-4251-a901-8b836021da34"
      },
      "execution_count": 6,
      "outputs": [
        {
          "output_type": "stream",
          "name": "stdout",
          "text": [
            "Tulia accuracy: 0.8866666666666667\n",
            "Scikit-learn accuracy 0.8833333333333333\n"
          ]
        }
      ]
    },
    {
      "cell_type": "markdown",
      "source": [
        "### Logistic Regression"
      ],
      "metadata": {
        "id": "JJ-L9HoyER1_"
      }
    },
    {
      "cell_type": "code",
      "source": [
        "# Train Tulia\n",
        "tulia = LogisticRegression(learning_rate=1e-2, n_steps=1000)\n",
        "tulia.fit(X_train, y_train)\n",
        "\n",
        "tulia_pred = tulia.predict(X_test)\n",
        "tulia_acc = accuracy_score(y_test, tulia_pred)\n",
        "\n",
        "# Train scikit-learn\n",
        "scikit = sklearn_lr()\n",
        "scikit.fit(X_train, y_train)\n",
        "\n",
        "scikit_pred = scikit.predict(X_test)\n",
        "scikit_acc = accuracy_score(y_test, scikit_pred)"
      ],
      "metadata": {
        "id": "aVSffxQtEPLa"
      },
      "execution_count": 7,
      "outputs": []
    },
    {
      "cell_type": "code",
      "source": [
        "print(f\"Tulia accuracy: {tulia_acc}\")\n",
        "print(f\"Scikit-learn accuracy {scikit_acc}\")"
      ],
      "metadata": {
        "colab": {
          "base_uri": "https://localhost:8080/"
        },
        "id": "VA0bTUUDEdgh",
        "outputId": "3b2b3632-66f8-4ddd-d6f4-54e510799387"
      },
      "execution_count": 8,
      "outputs": [
        {
          "output_type": "stream",
          "name": "stdout",
          "text": [
            "Tulia accuracy: 0.84\n",
            "Scikit-learn accuracy 0.88\n"
          ]
        }
      ]
    },
    {
      "cell_type": "markdown",
      "source": [
        "### Gaussian Naive Bayes"
      ],
      "metadata": {
        "id": "N5ZctKkZEt3G"
      }
    },
    {
      "cell_type": "code",
      "source": [
        "# Train Tulia\n",
        "tulia = GaussianNB()\n",
        "tulia.fit(X_train, y_train)\n",
        "\n",
        "tulia_pred = tulia.predict(X_test)\n",
        "tulia_acc = accuracy_score(y_test, tulia_pred)\n",
        "\n",
        "# Train scikit-learn\n",
        "scikit = sklearn_gnb()\n",
        "scikit.fit(X_train, y_train)\n",
        "\n",
        "scikit_pred = scikit.predict(X_test)\n",
        "scikit_acc = accuracy_score(y_test, scikit_pred)"
      ],
      "metadata": {
        "id": "LBSmmdzSEjpw"
      },
      "execution_count": 9,
      "outputs": []
    },
    {
      "cell_type": "code",
      "source": [
        "print(f\"Tulia accuracy: {tulia_acc}\")\n",
        "print(f\"Scikit-learn accuracy {scikit_acc}\")"
      ],
      "metadata": {
        "colab": {
          "base_uri": "https://localhost:8080/"
        },
        "id": "aTNlx1LrE80Y",
        "outputId": "c4002e11-bae1-4b5a-df97-5225ee71b2a5"
      },
      "execution_count": 10,
      "outputs": [
        {
          "output_type": "stream",
          "name": "stdout",
          "text": [
            "Tulia accuracy: 0.8333333333333334\n",
            "Scikit-learn accuracy 0.8333333333333334\n"
          ]
        }
      ]
    },
    {
      "cell_type": "markdown",
      "source": [
        "### K-Nearest Neighbors (KNN)"
      ],
      "metadata": {
        "id": "fXLyMrEwE-p_"
      }
    },
    {
      "cell_type": "code",
      "source": [
        "# Train Tulia\n",
        "tulia = KNN(k=3)\n",
        "tulia.fit(X_train, y_train)\n",
        "\n",
        "tulia_pred = tulia.predict(X_test)\n",
        "tulia_acc = accuracy_score(y_test, tulia_pred)\n",
        "\n",
        "# Train scikit-learn\n",
        "scikit = sklearn_knn(n_neighbors=3)\n",
        "scikit.fit(X_train, y_train)\n",
        "\n",
        "scikit_pred = scikit.predict(X_test)\n",
        "scikit_acc = accuracy_score(y_test, scikit_pred)"
      ],
      "metadata": {
        "id": "Tfx8fgRPE9S4"
      },
      "execution_count": 11,
      "outputs": []
    },
    {
      "cell_type": "code",
      "source": [
        "print(f\"Tulia accuracy: {tulia_acc}\")\n",
        "print(f\"Scikit-learn accuracy {scikit_acc}\")"
      ],
      "metadata": {
        "colab": {
          "base_uri": "https://localhost:8080/"
        },
        "id": "4Xs1cYifFEY4",
        "outputId": "e55c4cfe-39ee-4a18-bab3-28db938765c4"
      },
      "execution_count": 12,
      "outputs": [
        {
          "output_type": "stream",
          "name": "stdout",
          "text": [
            "Tulia accuracy: 0.84\n",
            "Scikit-learn accuracy 0.84\n"
          ]
        }
      ]
    },
    {
      "cell_type": "code",
      "source": [],
      "metadata": {
        "id": "0fnm-2ERFMA4"
      },
      "execution_count": 12,
      "outputs": []
    }
  ]
}