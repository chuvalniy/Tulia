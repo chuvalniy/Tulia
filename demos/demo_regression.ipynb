{
  "nbformat": 4,
  "nbformat_minor": 0,
  "metadata": {
    "colab": {
      "provenance": []
    },
    "kernelspec": {
      "name": "python3",
      "display_name": "Python 3"
    },
    "language_info": {
      "name": "python"
    }
  },
  "cells": [
    {
      "cell_type": "code",
      "execution_count": 1,
      "metadata": {
        "id": "jjiJopeLwz8s"
      },
      "outputs": [],
      "source": [
        "from sklearn.datasets import make_regression\n",
        "from sklearn.model_selection import train_test_split\n",
        "from sklearn.metrics import mean_squared_error\n",
        "\n",
        "from sklearn.ensemble import RandomForestRegressor as sklearn_rf\n",
        "from sklearn.ensemble import GradientBoostingRegressor as sklearn_gb\n",
        "from sklearn.linear_model import LinearRegression as sklearn_lr"
      ]
    },
    {
      "cell_type": "code",
      "source": [
        "pip install tulia"
      ],
      "metadata": {
        "colab": {
          "base_uri": "https://localhost:8080/"
        },
        "id": "kpaW1feTxB8P",
        "outputId": "79ce4a69-6785-49aa-c280-f46d5a69bd88"
      },
      "execution_count": 2,
      "outputs": [
        {
          "output_type": "stream",
          "name": "stdout",
          "text": [
            "Requirement already satisfied: tulia in /usr/local/lib/python3.10/dist-packages (0.2.1)\n",
            "Requirement already satisfied: numpy in /usr/local/lib/python3.10/dist-packages (from tulia) (1.23.5)\n",
            "Requirement already satisfied: pytest in /usr/local/lib/python3.10/dist-packages (from tulia) (7.4.4)\n",
            "Requirement already satisfied: iniconfig in /usr/local/lib/python3.10/dist-packages (from pytest->tulia) (2.0.0)\n",
            "Requirement already satisfied: packaging in /usr/local/lib/python3.10/dist-packages (from pytest->tulia) (23.2)\n",
            "Requirement already satisfied: pluggy<2.0,>=0.12 in /usr/local/lib/python3.10/dist-packages (from pytest->tulia) (1.3.0)\n",
            "Requirement already satisfied: exceptiongroup>=1.0.0rc8 in /usr/local/lib/python3.10/dist-packages (from pytest->tulia) (1.2.0)\n",
            "Requirement already satisfied: tomli>=1.0.0 in /usr/local/lib/python3.10/dist-packages (from pytest->tulia) (2.0.1)\n"
          ]
        }
      ]
    },
    {
      "cell_type": "code",
      "source": [
        "from src.ensemble import RandomForestRegressor, GradientBoostingRegressor\n",
        "from src.linear import LinearRegression"
      ],
      "metadata": {
        "id": "CyPLasKhxlGf"
      },
      "execution_count": 3,
      "outputs": []
    },
    {
      "cell_type": "code",
      "source": [
        "# Generate synthetic data\n",
        "X, y = make_regression(n_samples=100, n_features=10, random_state=1)\n",
        "\n",
        "# Split data into training and testing sets\n",
        "from sklearn.model_selection import train_test_split\n",
        "\n",
        "X_train, X_test, y_train, y_test = train_test_split(X, y, test_size=0.3, random_state=1)"
      ],
      "metadata": {
        "id": "QAtysxEExZT1"
      },
      "execution_count": 4,
      "outputs": []
    },
    {
      "cell_type": "markdown",
      "source": [
        "### Random Forest"
      ],
      "metadata": {
        "id": "3mZOfdrP06Y1"
      }
    },
    {
      "cell_type": "code",
      "source": [
        "# Train Tulia\n",
        "tulia = RandomForestRegressor(n_trees=10, max_depth=5, min_samples_split=4, max_features=0.5)\n",
        "tulia.fit(X_train, y_train)\n",
        "\n",
        "tulia_pred = tulia.predict(X_test)\n",
        "tulia_mse = mean_squared_error(y_test, tulia_pred)\n",
        "\n",
        "# Train scikit-learn\n",
        "scikit = sklearn_rf(n_estimators=10, max_depth=5, min_samples_split=4, max_features=0.5)\n",
        "scikit.fit(X_train, y_train)\n",
        "\n",
        "scikit_pred = scikit.predict(X_test)\n",
        "scikit_mse = mean_squared_error(y_test, scikit_pred)"
      ],
      "metadata": {
        "id": "WyMt-p4Sx8HN"
      },
      "execution_count": 5,
      "outputs": []
    },
    {
      "cell_type": "code",
      "source": [
        "print(f\"Tulia error: {tulia_mse}\")\n",
        "print(f\"Scikit-learn error {scikit_mse}\")"
      ],
      "metadata": {
        "colab": {
          "base_uri": "https://localhost:8080/"
        },
        "id": "p5tWoxFN0Wbg",
        "outputId": "b387f2d3-726c-4d41-c9b2-fd336441d72d"
      },
      "execution_count": 6,
      "outputs": [
        {
          "output_type": "stream",
          "name": "stdout",
          "text": [
            "Tulia error: 11337.007226626818\n",
            "Scikit-learn error 13559.726445039438\n"
          ]
        }
      ]
    },
    {
      "cell_type": "markdown",
      "source": [
        "### Gradient Boosting"
      ],
      "metadata": {
        "id": "hVIaNNC01KaX"
      }
    },
    {
      "cell_type": "code",
      "source": [
        "# Train Tulia\n",
        "tulia = GradientBoostingRegressor(learning_rate=1e-3, n_steps=100, max_depth=5, min_samples_split=4, max_features=0.5)\n",
        "tulia.fit(X_train, y_train)\n",
        "\n",
        "tulia_pred = tulia.predict(X_test)\n",
        "tulia_mse = mean_squared_error(y_test, tulia_pred)\n",
        "\n",
        "# Train scikit-learn\n",
        "scikit = sklearn_gb(learning_rate=1e-3, n_estimators=10, max_depth=5, min_samples_split=4, max_features=0.5)\n",
        "scikit.fit(X_train, y_train)\n",
        "\n",
        "scikit_pred = scikit.predict(X_test)\n",
        "scikit_mse = mean_squared_error(y_test, scikit_pred)"
      ],
      "metadata": {
        "id": "GptPIVs1yrsT"
      },
      "execution_count": 7,
      "outputs": []
    },
    {
      "cell_type": "code",
      "source": [
        "print(f\"Tulia error: {tulia_mse}\")\n",
        "print(f\"Scikit-learn error {scikit_mse}\")"
      ],
      "metadata": {
        "colab": {
          "base_uri": "https://localhost:8080/"
        },
        "id": "1FhguzNN02wF",
        "outputId": "7c2f3305-fde2-4668-d5f8-584444847118"
      },
      "execution_count": 8,
      "outputs": [
        {
          "output_type": "stream",
          "name": "stdout",
          "text": [
            "Tulia error: 24907.95066430781\n",
            "Scikit-learn error 22840.083891289953\n"
          ]
        }
      ]
    },
    {
      "cell_type": "markdown",
      "source": [
        "### Linear Regression"
      ],
      "metadata": {
        "id": "nGa0DdJ3CvEL"
      }
    },
    {
      "cell_type": "code",
      "source": [
        "# Train Tulia\n",
        "tulia = LinearRegression(learning_rate=1e-1, n_steps=1000)\n",
        "tulia.fit(X_train, y_train)\n",
        "\n",
        "tulia_pred = tulia.predict(X_test)\n",
        "tulia_mse = mean_squared_error(y_test, tulia_pred)\n",
        "\n",
        "# Train scikit-learn\n",
        "scikit = sklearn_lr()  # scikit-learn uses different approach in training linear models.\n",
        "scikit.fit(X_train, y_train)\n",
        "\n",
        "scikit_pred = scikit.predict(X_test)\n",
        "scikit_mse = mean_squared_error(y_test, scikit_pred)"
      ],
      "metadata": {
        "id": "zNr2sufszGb4"
      },
      "execution_count": 9,
      "outputs": []
    },
    {
      "cell_type": "code",
      "source": [
        "print(f\"Tulia error: {tulia_mse}\")\n",
        "print(f\"Scikit-learn error {scikit_mse}\")"
      ],
      "metadata": {
        "colab": {
          "base_uri": "https://localhost:8080/"
        },
        "id": "wUNnFcAcB2EU",
        "outputId": "71031432-71ae-48d2-92a3-8498cb16812d"
      },
      "execution_count": 10,
      "outputs": [
        {
          "output_type": "stream",
          "name": "stdout",
          "text": [
            "Tulia error: 0.000289187391120129\n",
            "Scikit-learn error 2.569793284847968e-26\n"
          ]
        }
      ]
    },
    {
      "cell_type": "code",
      "source": [],
      "metadata": {
        "id": "ZSZA48ezC4pL"
      },
      "execution_count": null,
      "outputs": []
    }
  ]
}